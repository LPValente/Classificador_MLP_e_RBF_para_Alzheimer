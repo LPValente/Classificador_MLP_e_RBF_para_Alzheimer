{
  "nbformat": 4,
  "nbformat_minor": 0,
  "metadata": {
    "colab": {
      "provenance": [],
      "collapsed_sections": []
    },
    "kernelspec": {
      "name": "python3",
      "display_name": "Python 3"
    },
    "language_info": {
      "name": "python"
    }
  },
  "cells": [
    {
      "cell_type": "markdown",
      "source": [
        "Trabalho 2 da disciplina Inteligência Computacional Aplicada - MLP e RBF"
      ],
      "metadata": {
        "id": "b6BnHoftiqCk"
      }
    },
    {
      "cell_type": "markdown",
      "source": [
        "Como temos uma base pequena(174 instâncias), nessa solução aplicaremos validação cruzada"
      ],
      "metadata": {
        "id": "hp-c1gW0km4C"
      }
    },
    {
      "cell_type": "markdown",
      "source": [
        "Carrega as bibliotecas"
      ],
      "metadata": {
        "id": "EIml_GpDizbD"
      }
    },
    {
      "cell_type": "code",
      "execution_count": 1,
      "metadata": {
        "id": "GDKUbqvwillZ"
      },
      "outputs": [],
      "source": [
        "from sklearn.neural_network import MLPClassifier\n",
        "from sklearn.gaussian_process import GaussianProcessClassifier\n",
        "from sklearn.gaussian_process.kernels import RBF\n",
        "from sklearn.model_selection import LeaveOneOut\n",
        "from sklearn.model_selection import KFold\n",
        "from sklearn.model_selection import RepeatedKFold\n",
        "from sklearn.decomposition import PCA\n",
        "\n",
        "# Manipulação de dados\n",
        "import numpy as np\n",
        "import numpy.ma as ma\n",
        "import pandas as pd\n",
        "# Redes Neurais\n",
        "#from tensorflow import keras\n",
        "#from keras.models import Sequential\n",
        "#from keras.layers import Dense, Dropout\n",
        "#from keras.optimizers import RMSprop\n",
        "# Plot\n",
        "import matplotlib.pyplot as plt\n",
        "%matplotlib inline\n",
        "# Avaliação\n",
        "from sklearn.metrics import classification_report, confusion_matrix"
      ]
    },
    {
      "cell_type": "markdown",
      "source": [
        "Carrega a base de dados"
      ],
      "metadata": {
        "id": "yfsCGcxQipEV"
      }
    },
    {
      "cell_type": "code",
      "source": [
        "\n",
        "darwin = pd.read_csv(\"DARWIN.csv\").to_numpy()\n",
        "X = darwin[0:175,1:451]\n",
        "y = darwin[0:175,451]\n",
        "print(X)\n",
        "print(y)"
      ],
      "metadata": {
        "colab": {
          "base_uri": "https://localhost:8080/"
        },
        "id": "yt9dtZgIjF-s",
        "outputId": "bbe88134-290f-4d26-f509-244d724760e4"
      },
      "execution_count": 2,
      "outputs": [
        {
          "output_type": "stream",
          "name": "stdout",
          "text": [
            "[[5160 1.25e-05 120.8041741 ... 1749.278166 296102.7676 144605]\n",
            " [51980 1.6e-05 115.3182382 ... 1504.768272 278744.285 298640]\n",
            " [2600 1.03e-05 229.9339973 ... 1431.443492 144411.7055 79025]\n",
            " ...\n",
            " [3830 8.36e-06 151.536989 ... 1915.573488 128727.1241 83445]\n",
            " [1760 7.96e-06 289.5181946 ... 1915.573488 128727.1241 83445]\n",
            " [2875 8.18e-06 235.7693499 ... 1915.573488 128727.1241 83445]]\n",
            "['P' 'P' 'P' 'P' 'P' 'P' 'P' 'P' 'P' 'P' 'P' 'P' 'P' 'P' 'P' 'P' 'P' 'P'\n",
            " 'P' 'P' 'P' 'P' 'P' 'P' 'P' 'P' 'P' 'P' 'P' 'P' 'P' 'P' 'P' 'P' 'P' 'P'\n",
            " 'P' 'P' 'P' 'P' 'P' 'P' 'P' 'P' 'P' 'P' 'P' 'P' 'P' 'P' 'P' 'P' 'P' 'P'\n",
            " 'P' 'P' 'P' 'P' 'P' 'P' 'P' 'P' 'P' 'P' 'P' 'P' 'P' 'P' 'P' 'P' 'P' 'P'\n",
            " 'P' 'P' 'P' 'P' 'P' 'P' 'P' 'P' 'P' 'P' 'P' 'P' 'P' 'P' 'P' 'P' 'P' 'H'\n",
            " 'H' 'H' 'H' 'H' 'H' 'H' 'H' 'H' 'H' 'H' 'H' 'H' 'H' 'H' 'H' 'H' 'H' 'H'\n",
            " 'H' 'H' 'H' 'H' 'H' 'H' 'H' 'H' 'H' 'H' 'H' 'H' 'H' 'H' 'H' 'H' 'H' 'H'\n",
            " 'H' 'H' 'H' 'H' 'H' 'H' 'H' 'H' 'H' 'H' 'H' 'H' 'H' 'H' 'H' 'H' 'H' 'H'\n",
            " 'H' 'H' 'H' 'H' 'H' 'H' 'H' 'H' 'H' 'H' 'H' 'H' 'H' 'H' 'H' 'H' 'H' 'H'\n",
            " 'H' 'H' 'H' 'H' 'H' 'H' 'H' 'H' 'H' 'H' 'H' 'H']\n"
          ]
        }
      ]
    },
    {
      "cell_type": "markdown",
      "source": [
        "Normalização dos dados"
      ],
      "metadata": {
        "id": "fC7xxn5rS91L"
      }
    },
    {
      "cell_type": "code",
      "source": [
        "X = 2*((X - np.amin(X,axis=0))/(np.amax(X,axis=0) - np.amin(X,axis=0))) - 1\n",
        "print(np.amax(X))\n",
        "print(np.amin(X))"
      ],
      "metadata": {
        "colab": {
          "base_uri": "https://localhost:8080/"
        },
        "id": "UCDAX8OtS_9Q",
        "outputId": "df28256b-cec7-4e5a-93d8-4a66784f4e7f"
      },
      "execution_count": 3,
      "outputs": [
        {
          "output_type": "stream",
          "name": "stdout",
          "text": [
            "1.0\n",
            "-1.0\n"
          ]
        }
      ]
    },
    {
      "cell_type": "markdown",
      "source": [
        "Redução de dimensionalidade aplicando PCA"
      ],
      "metadata": {
        "id": "XeXKUwbHH2fw"
      }
    },
    {
      "cell_type": "code",
      "source": [
        "PCA.n_features_ = 450\n",
        "PCA.n_samples_ = 174\n",
        "#pca = PCA(n_components= 'mle', svd_solver= 'full')\n",
        "#pca = PCA(n_components= 0.9999, svd_solver= 'full')\n",
        "pca = PCA(svd_solver= 'arpack')\n",
        "pca.fit(X)\n",
        "\n",
        "#print(pca.explained_variance_ratio_)\n",
        "\n",
        "#print(pca.singular_values_)\n",
        "\n",
        "X = pca.transform(X)\n",
        "\n"
      ],
      "metadata": {
        "id": "Zr7QEz1hH6LP"
      },
      "execution_count": 4,
      "outputs": []
    },
    {
      "cell_type": "markdown",
      "source": [
        "Gera a rede MLP"
      ],
      "metadata": {
        "id": "Yvpge20bjMob"
      }
    },
    {
      "cell_type": "code",
      "source": [
        "#kf = KFold(n_splits=10)\n",
        "kf = RepeatedKFold(n_splits=10,n_repeats=10)\n",
        "\n",
        "loo = LeaveOneOut()\n",
        "loo.get_n_splits(X)\n",
        "\n",
        "mscore1 = 0.0;\n",
        "mscore2 = 0.0;\n",
        "mscore3 = 0.0;\n",
        "cont = 0;\n",
        "#clf = MLPClassifier(random_state=1, max_iter=300)\n",
        "\n",
        "MLP1 = MLPClassifier(hidden_layer_sizes= 100, activation=\"relu\", solver=\"adam\",max_iter=300, random_state=1)\n",
        "MLP2 = MLPClassifier(hidden_layer_sizes= 100, activation=\"logistic\", solver=\"adam\",max_iter=300, random_state=1)\n",
        "MLP3 = MLPClassifier(hidden_layer_sizes= 100, activation=\"tanh\", solver=\"adam\",max_iter=300, random_state=1)\n",
        "    \n",
        "\n",
        "for train_index, test_index in kf.split(X):\n",
        "#for train_index, test_index in loo.split(X):\n",
        "    #print(\"TRAIN:\", train_index, \"TEST:\", test_index)\n",
        "    X_train, X_test = X[train_index], X[test_index]\n",
        "    y_train, y_test = y[train_index], y[test_index]\n",
        "    #print(X_train, X_test, y_train, y_test)\n",
        "\n",
        "    MLP1.fit(X_train, y_train)\n",
        "    MLP2.fit(X_train, y_train)\n",
        "    MLP3.fit(X_train, y_train)\n",
        "\n",
        "    MLP1.predict_proba(X_test)\n",
        "    MLP2.predict_proba(X_test)\n",
        "    MLP3.predict_proba(X_test)\n",
        "    \n",
        "\n",
        "    MLP1.predict(X_test)\n",
        "    MLP2.predict(X_test)\n",
        "    MLP3.predict(X_test)\n",
        "    \n",
        "\n",
        "    mscore1 = mscore1 + MLP1.score(X_test, y_test)\n",
        "    mscore2 = mscore2 + MLP2.score(X_test, y_test)\n",
        "    mscore3 = mscore3 + MLP3.score(X_test, y_test)\n",
        "    cont = cont + 1\n",
        "\n",
        "mscore1 = mscore1/cont\n",
        "mscore2 = mscore2/cont\n",
        "mscore3 = mscore3/cont"
      ],
      "metadata": {
        "id": "s6zq3_BfjSC0"
      },
      "execution_count": null,
      "outputs": []
    },
    {
      "cell_type": "code",
      "source": [
        "\n",
        "\n",
        "print(\"acurácia 1: \",mscore1)\n",
        "print(\"acurácia 2: \",mscore2)\n",
        "print(\"acurácia 3: \",mscore3)"
      ],
      "metadata": {
        "colab": {
          "base_uri": "https://localhost:8080/"
        },
        "id": "Uifays54EsDX",
        "outputId": "e351645e-7834-4706-a0ba-a6fb4a9fd339"
      },
      "execution_count": 6,
      "outputs": [
        {
          "output_type": "stream",
          "name": "stdout",
          "text": [
            "acurácia 1:  0.8245424836601299\n",
            "acurácia 2:  0.6607843137254902\n",
            "acurácia 3:  0.7385620915032676\n"
          ]
        }
      ]
    },
    {
      "cell_type": "markdown",
      "source": [
        "Gera a rede RBF"
      ],
      "metadata": {
        "id": "xPvDj5WJjSbT"
      }
    },
    {
      "cell_type": "code",
      "source": [
        "#kf = KFold(n_splits=10)\n",
        "kf = RepeatedKFold(n_splits=10,n_repeats=10)\n",
        "\n",
        "loo = LeaveOneOut()\n",
        "loo.get_n_splits(X)\n",
        "\n",
        "mscore4 = 0.0;\n",
        "cont = 0;\n",
        "\n",
        "kernel = 1.0 * RBF(1.0)\n",
        "RBFC = GaussianProcessClassifier(kernel=kernel,random_state=0)\n",
        "\n",
        "for train_index, test_index in kf.split(X):\n",
        "#for train_index, test_index in loo.split(X):\n",
        "    #print(\"TRAIN:\", train_index, \"TEST:\", test_index)\n",
        "    X_train, X_test = X[train_index], X[test_index]\n",
        "    y_train, y_test = y[train_index], y[test_index]\n",
        "    #print(X_train, X_test, y_train, y_test)\n",
        "\n",
        "    RBFC.fit(X_train, y_train)\n",
        "\n",
        "    RBFC.predict_proba(X_test)\n",
        "    \n",
        "    RBFC.predict(X_test)\n",
        "    \n",
        "    mscore4 = mscore4 + RBFC.score(X_test, y_test)\n",
        "    cont = cont + 1\n",
        "\n",
        "mscore4 = mscore4/cont"
      ],
      "metadata": {
        "colab": {
          "base_uri": "https://localhost:8080/"
        },
        "id": "ptaiVpPecXpd",
        "outputId": "0af0d500-1ec8-4e9f-e35e-30989fb5659d"
      },
      "execution_count": 14,
      "outputs": [
        {
          "output_type": "stream",
          "name": "stderr",
          "text": [
            "/usr/local/lib/python3.7/dist-packages/sklearn/gaussian_process/kernels.py:427: ConvergenceWarning: The optimal value found for dimension 0 of parameter k1__constant_value is close to the specified lower bound 1e-05. Decreasing the bound and calling fit again may find a better value.\n",
            "  ConvergenceWarning,\n"
          ]
        }
      ]
    },
    {
      "cell_type": "code",
      "source": [
        "print(mscore4)"
      ],
      "metadata": {
        "colab": {
          "base_uri": "https://localhost:8080/"
        },
        "id": "6k_5kn0NgKxb",
        "outputId": "fd202823-6ad0-4bb2-f69c-6639e650e761"
      },
      "execution_count": 16,
      "outputs": [
        {
          "output_type": "stream",
          "name": "stdout",
          "text": [
            "0.8532026143790842\n"
          ]
        }
      ]
    }
  ]
}